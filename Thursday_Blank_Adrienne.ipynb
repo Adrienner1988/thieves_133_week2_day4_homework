{
 "cells": [
  {
   "cell_type": "markdown",
   "metadata": {},
   "source": [
    "# Object-Oriented-Programming (OOP)"
   ]
  },
  {
   "cell_type": "markdown",
   "metadata": {},
   "source": [
    "## Tasks Today:\n",
    "\n",
    "   \n",
    "\n",
    "1) <b>Creating a Class (Initializing/Declaring)</b> <br>\n",
    "2) <b>Using a Class (Instantiating)</b> <br>\n",
    " &nbsp;&nbsp;&nbsp;&nbsp; a) Creating One Instance <br>\n",
    " &nbsp;&nbsp;&nbsp;&nbsp; b) Creating Multiple Instances <br>\n",
    " &nbsp;&nbsp;&nbsp;&nbsp; c) In-Class Exercise #1 - Create a Class 'Car' and instantiate three different makes of cars <br>\n",
    "3) <b>The \\__init\\__() Method</b> <br>\n",
    " &nbsp;&nbsp;&nbsp;&nbsp; a) The 'self' Attribute <br>\n",
    "4) <b>Class Attributes</b> <br>\n",
    " &nbsp;&nbsp;&nbsp;&nbsp; a) Initializing Attributes <br>\n",
    " &nbsp;&nbsp;&nbsp;&nbsp; b) Setting an Attribute Outside of the \\__init\\__() Method <br>\n",
    " &nbsp;&nbsp;&nbsp;&nbsp; c) Setting Defaults for Attributes <br>\n",
    " &nbsp;&nbsp;&nbsp;&nbsp; d) Accessing Class Attributes <br>\n",
    " &nbsp;&nbsp;&nbsp;&nbsp; e) Changing Class Attributes <br>\n",
    " &nbsp;&nbsp;&nbsp;&nbsp; f) In-Class Exercise #2 - Add a color and wheels attribute to your 'Car' class <br>\n",
    "5) <b>Class Methods</b> <br>\n",
    " &nbsp;&nbsp;&nbsp;&nbsp; a) Creating <br>\n",
    " &nbsp;&nbsp;&nbsp;&nbsp; b) Calling <br>\n",
    " &nbsp;&nbsp;&nbsp;&nbsp; c) Modifying an Attribute's Value Through a Method <br>\n",
    " &nbsp;&nbsp;&nbsp;&nbsp; d) Incrementing an Attribute's Value Through a Method <br>\n",
    " &nbsp;&nbsp;&nbsp;&nbsp; e) In-Class Exercise #3 - Add a method that prints the cars color and wheel number, then call them <br>\n",
    "6) <b>Inheritance</b> <br>\n",
    " &nbsp;&nbsp;&nbsp;&nbsp; a) Syntax for Inheriting from a Parent Class <br>\n",
    " &nbsp;&nbsp;&nbsp;&nbsp; b) The \\__init\\__() Method for a Child Class (super()) <br>\n",
    " &nbsp;&nbsp;&nbsp;&nbsp; c) Defining Attributes and Methods for the Child Class <br>\n",
    " &nbsp;&nbsp;&nbsp;&nbsp; d) Method Overriding <br>\n",
    " &nbsp;&nbsp;&nbsp;&nbsp; e) In-Class Exercise #4 - Create a class 'Ford' that inherits from 'Car' class and initialize it as a Blue Ford Explorer with 4 wheels using the super() method <br>\n",
    "7) <b>Exercises</b> <br>\n",
    " &nbsp;&nbsp;&nbsp;&nbsp; a) Exercise #1 - Turn the shopping cart program from yesterday into an object-oriented program <br>"
   ]
  },
  {
   "cell_type": "markdown",
   "metadata": {},
   "source": [
    "## Creating a Class (Initializing/Declaring)\n",
    "<p>When creating a class, function, or even a variable you are initializing that object. Initializing and Declaring occur at the same time in Python, whereas in lower level languages you have to declare an object before initializing it. This is the first step in the process of using a class.</p>"
   ]
  },
  {
   "cell_type": "code",
   "execution_count": 1,
   "metadata": {},
   "outputs": [],
   "source": [
    "class Car():\n",
    "    wheels = 4\n",
    "    color = 'blue'\n",
    "\n"
   ]
  },
  {
   "cell_type": "markdown",
   "metadata": {},
   "source": [
    "## Using a Class (Instantiating)\n",
    "<p>The process of creating a class is called <i>Instantiating</i>. Each time you create a variable of that type of class, it is referred to as an <i>Instance</i> of that class. This is the second step in the process of using a class.</p>"
   ]
  },
  {
   "cell_type": "markdown",
   "metadata": {},
   "source": [
    "##### Creating One Instance"
   ]
  },
  {
   "cell_type": "code",
   "execution_count": 3,
   "metadata": {},
   "outputs": [
    {
     "name": "stdout",
     "output_type": "stream",
     "text": [
      "4\n"
     ]
    }
   ],
   "source": [
    "ford = Car()\n",
    "print(ford.wheels)"
   ]
  },
  {
   "cell_type": "markdown",
   "metadata": {},
   "source": [
    "##### Creating Multiple Instances"
   ]
  },
  {
   "cell_type": "code",
   "execution_count": 21,
   "metadata": {},
   "outputs": [
    {
     "name": "stdout",
     "output_type": "stream",
     "text": [
      "blue\n",
      "4\n"
     ]
    }
   ],
   "source": [
    "nissan = Car()\n",
    "toyota = Car()\n",
    "honda = Car()\n",
    "print(nissan.color)\n",
    "print(toyota.wheels)"
   ]
  },
  {
   "cell_type": "markdown",
   "metadata": {},
   "source": [
    "##### In-Class Exercise #1 - Create a Class 'Car' and Instantiate three different makes of cars"
   ]
  },
  {
   "cell_type": "code",
   "execution_count": 24,
   "metadata": {},
   "outputs": [],
   "source": [
    "class Car():\n",
    "    nissan = Car()\n",
    "    toyota = Car()\n",
    "    honda = Car()\n",
    "\n"
   ]
  },
  {
   "cell_type": "markdown",
   "metadata": {},
   "source": [
    "## The \\__init\\__() Method <br>\n",
    "<p>This method is used in almost every created class, and called only once upon the creation of the class instance. This method will initialize all variables needed for the object.</p>"
   ]
  },
  {
   "cell_type": "code",
   "execution_count": 6,
   "metadata": {},
   "outputs": [
    {
     "name": "stdout",
     "output_type": "stream",
     "text": [
      "Rihanna\n"
     ]
    }
   ],
   "source": [
    "class MakeUp():\n",
    "    def __init__(self, founder, brand): # dunder init method or Constructor\n",
    "        self.founder = founder #instance properties\n",
    "        self.brand = brand\n",
    "fenty = MakeUp('Rihanna', 'Fenty Beauty')\n",
    "print(fenty.founder)"
   ]
  },
  {
   "cell_type": "markdown",
   "metadata": {},
   "source": [
    "##### The 'self' Attribute <br>\n",
    "<p>This attribute is required to keep track of specific instance's attributes. Without the self attribute, the program would not know how to reference or keep track of an instance's attributes.</p>"
   ]
  },
  {
   "cell_type": "code",
   "execution_count": null,
   "metadata": {},
   "outputs": [],
   "source": [
    "# see above\n",
    "# referring to the name of your instance"
   ]
  },
  {
   "cell_type": "markdown",
   "metadata": {},
   "source": [
    "## Class Attributes <br>\n",
    "<p>While variables are inside of a class, they are referred to as attributes and not variables. When someone says 'attribute' you know they're speaking about a class. Attributes can be initialized through the init method, or outside of it.</p>"
   ]
  },
  {
   "cell_type": "markdown",
   "metadata": {},
   "source": [
    "##### Initializing Attributes"
   ]
  },
  {
   "cell_type": "code",
   "execution_count": null,
   "metadata": {},
   "outputs": [],
   "source": [
    "# see above"
   ]
  },
  {
   "cell_type": "markdown",
   "metadata": {},
   "source": [
    "##### Accessing Class Attributes"
   ]
  },
  {
   "cell_type": "code",
   "execution_count": null,
   "metadata": {
    "scrolled": true
   },
   "outputs": [],
   "source": [
    "# See Above"
   ]
  },
  {
   "cell_type": "markdown",
   "metadata": {},
   "source": [
    "##### Setting Defaults for Attributes"
   ]
  },
  {
   "cell_type": "code",
   "execution_count": 28,
   "metadata": {},
   "outputs": [
    {
     "data": {
      "text/plain": [
       "{'city': 'San Diego', 'name': 'heat', 'year': 2019}"
      ]
     },
     "execution_count": 28,
     "metadata": {},
     "output_type": "execute_result"
    }
   ],
   "source": [
    "class NbaTeam():\n",
    "    def __init__(self, city, name, year=2023):\n",
    "        self.city = city\n",
    "        self.name = name\n",
    "        self.year = year\n",
    "\n",
    "heat = NbaTeam('miami', 'heat', 2019)\n",
    "heat.year\n",
    "\n",
    "# changing an instance property\n",
    "heat.city = 'San Diego'\n",
    "\n",
    "# viewing properties as a dictionary\n",
    "heat.__dict__"
   ]
  },
  {
   "attachments": {},
   "cell_type": "markdown",
   "metadata": {},
   "source": [
    "##### Changing Instance Attributes <br>\n",
    "<p>Keep in mind there are global class attributes and then there are attributes only available to each class instance which won't effect other classes.</p>"
   ]
  },
  {
   "cell_type": "code",
   "execution_count": null,
   "metadata": {},
   "outputs": [],
   "source": [
    "# see above"
   ]
  },
  {
   "cell_type": "markdown",
   "metadata": {},
   "source": [
    "##### In-Class Exercise #2 - Add a doors and seats attribute to your 'Car' class then print out two different instances with different doors and seats"
   ]
  },
  {
   "cell_type": "code",
   "execution_count": 29,
   "metadata": {},
   "outputs": [
    {
     "ename": "NameError",
     "evalue": "name 'carType' is not defined",
     "output_type": "error",
     "traceback": [
      "\u001b[1;31m---------------------------------------------------------------------------\u001b[0m",
      "\u001b[1;31mNameError\u001b[0m                                 Traceback (most recent call last)",
      "\u001b[1;32mc:\\Users\\adrie\\Documents\\Thieves-133\\week2\\day4\\Thursday_Blank_Adrienne.ipynb Cell 26\u001b[0m line \u001b[0;36m1\n\u001b[1;32m----> <a href='vscode-notebook-cell:/c%3A/Users/adrie/Documents/Thieves-133/week2/day4/Thursday_Blank_Adrienne.ipynb#X34sZmlsZQ%3D%3D?line=0'>1</a>\u001b[0m \u001b[39mclass\u001b[39;00m \u001b[39mcarType\u001b[39;00m():\n\u001b[0;32m      <a href='vscode-notebook-cell:/c%3A/Users/adrie/Documents/Thieves-133/week2/day4/Thursday_Blank_Adrienne.ipynb#X34sZmlsZQ%3D%3D?line=1'>2</a>\u001b[0m     \u001b[39mdef\u001b[39;00m \u001b[39m__init__\u001b[39m(\u001b[39mself\u001b[39m, doors, seats):\n\u001b[0;32m      <a href='vscode-notebook-cell:/c%3A/Users/adrie/Documents/Thieves-133/week2/day4/Thursday_Blank_Adrienne.ipynb#X34sZmlsZQ%3D%3D?line=2'>3</a>\u001b[0m         \u001b[39mself\u001b[39m\u001b[39m.\u001b[39mdoors \u001b[39m=\u001b[39m doors\n",
      "\u001b[1;32mc:\\Users\\adrie\\Documents\\Thieves-133\\week2\\day4\\Thursday_Blank_Adrienne.ipynb Cell 26\u001b[0m line \u001b[0;36m6\n\u001b[0;32m      <a href='vscode-notebook-cell:/c%3A/Users/adrie/Documents/Thieves-133/week2/day4/Thursday_Blank_Adrienne.ipynb#X34sZmlsZQ%3D%3D?line=2'>3</a>\u001b[0m     \u001b[39mself\u001b[39m\u001b[39m.\u001b[39mdoors \u001b[39m=\u001b[39m doors\n\u001b[0;32m      <a href='vscode-notebook-cell:/c%3A/Users/adrie/Documents/Thieves-133/week2/day4/Thursday_Blank_Adrienne.ipynb#X34sZmlsZQ%3D%3D?line=3'>4</a>\u001b[0m     \u001b[39mself\u001b[39m\u001b[39m.\u001b[39mseats \u001b[39m=\u001b[39m seats\n\u001b[1;32m----> <a href='vscode-notebook-cell:/c%3A/Users/adrie/Documents/Thieves-133/week2/day4/Thursday_Blank_Adrienne.ipynb#X34sZmlsZQ%3D%3D?line=5'>6</a>\u001b[0m car \u001b[39m=\u001b[39m carType(\u001b[39m4\u001b[39m, \u001b[39m5\u001b[39m)\n\u001b[0;32m      <a href='vscode-notebook-cell:/c%3A/Users/adrie/Documents/Thieves-133/week2/day4/Thursday_Blank_Adrienne.ipynb#X34sZmlsZQ%3D%3D?line=6'>7</a>\u001b[0m \u001b[39mprint\u001b[39m(car\u001b[39m.\u001b[39mdoors)\n\u001b[0;32m      <a href='vscode-notebook-cell:/c%3A/Users/adrie/Documents/Thieves-133/week2/day4/Thursday_Blank_Adrienne.ipynb#X34sZmlsZQ%3D%3D?line=7'>8</a>\u001b[0m \u001b[39mprint\u001b[39m(car\u001b[39m.\u001b[39mseats)\n",
      "\u001b[1;31mNameError\u001b[0m: name 'carType' is not defined"
     ]
    }
   ],
   "source": [
    "class Car():\n",
    "    def __init__(self, doors, seats):\n",
    "        self.doors = doors\n",
    "        self.seats = seats\n",
    "    \n",
    "    car = Car(4, 5)\n",
    "    print(car.doors)\n",
    "    print(car.seats)\n",
    "\n",
    "    car2 = Car(2, 2)\n",
    "    print(car2.seats)\n",
    "    print(car2.doors)\n"
   ]
  },
  {
   "cell_type": "markdown",
   "metadata": {},
   "source": [
    "## Class Methods <br>\n",
    "<p>While inside of a class, functions are referred to as 'methods'. If you hear someone mention methods, they're speaking about classes. Methods are essentially functions, but only callable on the instances of a class.</p>"
   ]
  },
  {
   "cell_type": "markdown",
   "metadata": {},
   "source": [
    "##### Creating"
   ]
  },
  {
   "cell_type": "code",
   "execution_count": 30,
   "metadata": {},
   "outputs": [
    {
     "name": "stdout",
     "output_type": "stream",
     "text": [
      "Michael Jackson was added to your roster\n",
      "Your current roster is {'Michael Jackson': 24}\n"
     ]
    }
   ],
   "source": [
    "# Cheat sheet for homework, just modify\n",
    "\n",
    "class Roster():\n",
    "    def __init__(self):\n",
    "        self.depth_chart = {}\n",
    "        self.num_of_players = 0\n",
    "    \n",
    "    def addPlayer(self):\n",
    "        name = input('What player would you like to add to your roster? ')\n",
    "        j_num = int(input(f'What number will {name} have? '))\n",
    "        # adding hte key vaule pair\n",
    "        self.depth_chart[name] = j_num\n",
    "        self.num_of_players += 1\n",
    "        print(f'{name} was added to your roster')\n",
    "        print(f'Your current roster is {self.depth_chart}')\n",
    "\n",
    "def removePlayer(self):\n",
    "    name = input('What player would you like to remove from your roster? ')\n",
    "    if (name in self.depth_chart):\n",
    "        del self.depth_chart[name]\n",
    "        self.j_num -= 1\n",
    "        print(f'{name} has been removed from your roster!')\n",
    "        print(f'Your current roster is {self.depth_chart}')\n",
    "    else:\n",
    "        print(f'{name} is not on your team')\n",
    "    \n",
    "def showPlayers(self):\n",
    "    print(f'Your roster has {self.num_of_players} players')\n",
    "    print('---------- Your Current Roster ----------')\n",
    "    for k , v in self.depth_chart.items():\n",
    "        print(k, v)\n",
    "\n",
    "def runner(self):\n",
    "    while True:\n",
    "        choice = input('What would you like to do? (add, remove, show or quit)').lower()\n",
    "        if choice == 'quit':\n",
    "            print('Good luck this season')\n",
    "            break\n",
    "        elif choice == 'add':\n",
    "            self.addPlayer()\n",
    "        elif choice == 'remove':\n",
    "            self.removePlayer()\n",
    "        elif choice == 'show':\n",
    "            self.showPlayer()\n",
    "        else:\n",
    "            print('Invalid input, please try again.')\n",
    "\n",
    "# creating an instance\n",
    "thievesRoster = Roster()\n",
    "thievesRoster.addPlayer()\n"
   ]
  },
  {
   "cell_type": "markdown",
   "metadata": {},
   "source": [
    "##### Calling"
   ]
  },
  {
   "cell_type": "code",
   "execution_count": null,
   "metadata": {},
   "outputs": [],
   "source": [
    "# See Above"
   ]
  },
  {
   "cell_type": "markdown",
   "metadata": {},
   "source": [
    "##### Modifying an Attribute's Value Through a Method"
   ]
  },
  {
   "cell_type": "code",
   "execution_count": null,
   "metadata": {},
   "outputs": [],
   "source": [
    "# see above\n"
   ]
  },
  {
   "cell_type": "markdown",
   "metadata": {},
   "source": [
    "##### Incrementing an Attribute's Value Through a Method"
   ]
  },
  {
   "cell_type": "code",
   "execution_count": null,
   "metadata": {},
   "outputs": [],
   "source": [
    "# see above\n"
   ]
  },
  {
   "cell_type": "markdown",
   "metadata": {},
   "source": [
    "## Inheritance <br>\n",
    "<p>You can create a child-parent relationship between two classes by using inheritance. What this allows you to do is have overriding methods, but also inherit traits from the parent class. Think of it as an actual parent and child, the child will inherit the parent's genes, as will the classes in OOP</p>"
   ]
  },
  {
   "cell_type": "markdown",
   "metadata": {},
   "source": [
    "##### Syntax for Inheriting from a Parent Class"
   ]
  },
  {
   "cell_type": "code",
   "execution_count": 31,
   "metadata": {},
   "outputs": [
    {
     "name": "stdout",
     "output_type": "stream",
     "text": [
      "Your roster has 0 players\n",
      "---------- Current Roster for the LA Lakers ----------\n",
      "Invalid input, please try again...\n",
      "Invalid input, please try again...\n",
      "Invalid input, please try again...\n"
     ]
    },
    {
     "ename": "",
     "evalue": "",
     "output_type": "error",
     "traceback": [
      "\u001b[1;31mThe Kernel crashed while executing code in the the current cell or a previous cell. Please review the code in the cell(s) to identify a possible cause of the failure. Click <a href='https://aka.ms/vscodeJupyterKernelCrash'>here</a> for more info. View Jupyter <a href='command:jupyter.viewOutput'>log</a> for further details."
     ]
    }
   ],
   "source": [
    "class NbaTeam(): # Parent Class\n",
    "    def __init__(self, city, name, year=2023):\n",
    "        self.city = city\n",
    "        self.name = name\n",
    "        self.year = year\n",
    "    \n",
    "    def printInfo(self):\n",
    "        return f'The {self.name} are from {self.city}.'\n",
    "\n",
    "\n",
    "\n",
    "class Roster(NbaTeam): # Child Class\n",
    "    def __init__(self, city, name):\n",
    "        super().__init__(city, name)\n",
    "        self.depth_chart = {}\n",
    "        self.num_of_players = 0\n",
    "    \n",
    "    def addPlayer(self):\n",
    "        name = input(f'What player would you like to add to the {self.name}?')\n",
    "        jersey_num = int(input(f'What number will {name} have?'))\n",
    "        self.depth_chart[name] = jersey_num\n",
    "        self.num_of_players += 1\n",
    "        print(f'{name} was added to the {self.name}!')\n",
    "        print(f'Your current roster is {self.depth_chart}')\n",
    "    \n",
    "    def removePlayer(self):\n",
    "        name = input(f'What player would you like to remove from the {self.name}?')\n",
    "        if (name in self.depth_chart):\n",
    "            del self.depth_chart[name]\n",
    "            self.num_of_players -= 1\n",
    "            print(f'{name} has been removed from your roster!')\n",
    "            print(f'Your current roster is {self.depth_chart}.')\n",
    "        else:\n",
    "            print(f'{name} is not on your team.')\n",
    "    \n",
    "    def showPlayers(self):\n",
    "        print(f'Your roster has {self.num_of_players} players')\n",
    "        print(f'---------- Current Roster for the {self.city} {self.name} ----------')\n",
    "        for key,value in self.depth_chart.items():\n",
    "            print(key,value)\n",
    "    \n",
    "    def runner(self):\n",
    "        while True:\n",
    "            choice = input('What would you like to do? (add, remove, show, or quit)').lower()\n",
    "            if (choice == 'quit'):\n",
    "                print('Good luck this season')\n",
    "                break\n",
    "            elif (choice == 'add'):\n",
    "                self.addPlayer()\n",
    "            elif (choice == 'remove'):\n",
    "                self.removePlayer()\n",
    "            elif (choice == 'show'):\n",
    "                self.showPlayers()\n",
    "            else:\n",
    "                print('Invalid input, please try again...')\n",
    "\n",
    "thievesTeam = NbaTeam('LA', 'Lakers')\n",
    "thievesRoster = Roster(thievesTeam.city, thievesTeam.name)\n",
    "\n",
    "thievesRoster.runner()"
   ]
  },
  {
   "cell_type": "markdown",
   "metadata": {},
   "source": [
    "##### The \\__init\\__() Method for a Child Class - super()"
   ]
  },
  {
   "cell_type": "code",
   "execution_count": null,
   "metadata": {
    "scrolled": true
   },
   "outputs": [],
   "source": [
    "# see above"
   ]
  },
  {
   "cell_type": "markdown",
   "metadata": {},
   "source": [
    "##### Defining Attributes and Methods for the Child Class"
   ]
  },
  {
   "cell_type": "code",
   "execution_count": null,
   "metadata": {},
   "outputs": [],
   "source": [
    "# See Above"
   ]
  },
  {
   "cell_type": "markdown",
   "metadata": {},
   "source": [
    "# Exercises"
   ]
  },
  {
   "cell_type": "markdown",
   "metadata": {},
   "source": [
    "### Exercise 1 - Turn the shopping cart program from yesterday into an object-oriented program\n",
    "\n",
    "The comments in the cell below are there as a guide for thinking about the problem. However, if you feel a different way is best for you and your own thought process, please do what feels best for you by all means."
   ]
  },
  {
   "cell_type": "code",
   "execution_count": 3,
   "metadata": {},
   "outputs": [
    {
     "name": "stdout",
     "output_type": "stream",
     "text": [
      "apples has been added to your cart! \n",
      "Your current shopping list is {'apples': 3}\n",
      "Invalid entry, please choose another option.\n",
      "carrots has been added to your cart! \n",
      "Your current shopping list is {'apples': 3, 'carrots': 5}\n",
      "razors has been added to your cart! \n",
      "Your current shopping list is {'apples': 3, 'carrots': 5, 'razors': 1}\n",
      "pack of t-shirts has been added to your cart! \n",
      "Your current shopping list is {'apples': 3, 'carrots': 5, 'razors': 1, 'pack of t-shirts': 1}\n",
      "gift bag has been added to your cart! \n",
      "Your current shopping list is {'apples': 3, 'carrots': 5, 'razors': 1, 'pack of t-shirts': 1, 'gift bag': 1}\n",
      "Your cart has 5 items on it \n",
      "----- Shopping Cart -----\n",
      "apples 3\n",
      "carrots 5\n",
      "razors 1\n",
      "pack of t-shirts 1\n",
      "gift bag 1\n",
      "carrots has been removed from your cart.\n",
      "Your cart currently has {'apples': 3, 'razors': 1, 'pack of t-shirts': 1, 'gift bag': 1} in it. \n"
     ]
    }
   ],
   "source": [
    "# Create a class called cart that retains items and has methods to add, remove, and show\n",
    "\n",
    "class ShoppingCart():\n",
    "    def __init__(self):\n",
    "        self.big_money_cart = {}\n",
    "        self.total_items = 0\n",
    "        \n",
    "\n",
    "    def addCart(self):\n",
    "        shop_list = input('What would you like to add to your shopping cart? ')\n",
    "        quantity_of_items = int(input(f'How many {shop_list} would you like? '))\n",
    "\n",
    "        self.big_money_cart[shop_list] = quantity_of_items\n",
    "        self.total_items += 1 \n",
    "\n",
    "        print(f'{shop_list} has been added to your cart! ')\n",
    "        print(f'Your current shopping list is {self.big_money_cart}')\n",
    "\n",
    "    def removeCart(self):\n",
    "        shop_list = input('What would you like to remove from your shopping cart? ')\n",
    "        if shop_list in self.big_money_cart:\n",
    "            del self.big_money_cart[shop_list]\n",
    "            self.total_items -= 1 \n",
    "            print(f'{shop_list} has been removed from your cart.')\n",
    "            print(f'Your cart currently has {self.big_money_cart} in it. ')\n",
    "        else:\n",
    "            print(f'{shop_list} is not on your list anymore.')\n",
    "    \n",
    "    def showCart(self):\n",
    "        print(f'Your cart has {self.total_items} items on it ')\n",
    "        print('----- Shopping Cart -----')\n",
    "        for k, v in self.big_money_cart.items():\n",
    "            print(k, v)\n",
    "\n",
    "    def runner(self):\n",
    "        while True:\n",
    "            choose = input('What would you like to do? (add, remove, show, or quit) ').lower()\n",
    "            if choose == 'quit':\n",
    "                break\n",
    "            elif choose == 'add':\n",
    "                self.addCart()\n",
    "            elif choose == 'remove':\n",
    "                self.removeCart()\n",
    "            elif choose == 'show':\n",
    "                self.showCart()\n",
    "            else:\n",
    "                print('Invalid entry, please choose another option.')\n",
    "\n",
    "ShoppingCart = ShoppingCart()\n",
    "ShoppingCart.runner()\n",
    "    "
   ]
  },
  {
   "cell_type": "markdown",
   "metadata": {},
   "source": [
    "### Exercise 2 - Write a Python class which has two methods get_String and print_String. get_String accept a string from the user and print_String print the string in upper case"
   ]
  },
  {
   "cell_type": "code",
   "execution_count": 2,
   "metadata": {},
   "outputs": [
    {
     "name": "stdout",
     "output_type": "stream",
     "text": [
      "ADRIENNE IS FROM IMMOKALEE, FLORIDA\n"
     ]
    }
   ],
   "source": [
    "\n",
    "class Methods():\n",
    "    def __init__(self, city, state):\n",
    "        self.name = ''\n",
    "        self.city = ''\n",
    "        self.state = ''\n",
    "\n",
    "    def get_String(self):\n",
    "        while True:\n",
    "            self.name = input('What is your name? ').upper()\n",
    "            self.city = input('what city are you from? ').upper()\n",
    "            self.state = input('What state are you from? ').upper()\n",
    "            return self.name, self.city, self.state\n",
    "        \n",
    "        \n",
    "    def print_String(self):\n",
    "       print(f'{self.name} IS FROM {self.city}, {self.state}')\n",
    "\n",
    "\n",
    "Method = Methods('city', 'state')\n",
    "Method.get_String()\n",
    "Method.print_String()"
   ]
  }
 ],
 "metadata": {
  "kernelspec": {
   "display_name": "Python 3",
   "language": "python",
   "name": "python3"
  },
  "language_info": {
   "codemirror_mode": {
    "name": "ipython",
    "version": 3
   },
   "file_extension": ".py",
   "mimetype": "text/x-python",
   "name": "python",
   "nbconvert_exporter": "python",
   "pygments_lexer": "ipython3",
   "version": "3.10.11"
  },
  "vscode": {
   "interpreter": {
    "hash": "aa82987a71ca0339a52998cd22613b0c002bda8349fa32a0cb67ceec3936a2bf"
   }
  }
 },
 "nbformat": 4,
 "nbformat_minor": 2
}
